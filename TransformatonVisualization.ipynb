{
 "cells": [
  {
   "cell_type": "code",
   "execution_count": null,
   "metadata": {},
   "outputs": [],
   "source": [
    "import numpy as np\n",
    "import matplotlib.pyplot as plt\n",
    "import imageio\n",
    "imageio.plugins.freeimage.download()\n",
    "import os\n",
    "\n",
    "%matplotlib widget"
   ]
  },
  {
   "cell_type": "code",
   "execution_count": null,
   "metadata": {},
   "outputs": [],
   "source": [
    "def inds_to_edges(V, edges):\n",
    "    return V[edges.flatten()].reshape((*edges.shape, -1))\n",
    "\n",
    "def get_axis_2D():\n",
    "    fig = plt.figure(figsize=(8,6))\n",
    "    return plt.axes()\n",
    "\n",
    "def get_axis_3D():\n",
    "    fig = plt.figure(figsize=(8,6))\n",
    "    return plt.axes(projection='3d')\n",
    "\n",
    "def vis_transform(V, edges, T, ax=None, invisibles=None, plot_lines=True):\n",
    "    if ax is None:\n",
    "        if V.shape[-1] == 3:\n",
    "            ax = get_axis_2D()\n",
    "        else:\n",
    "            ax = get_axis_3D()\n",
    "    \n",
    "    V_T = np.matmul(V, T)\n",
    "    \n",
    "    E = inds_to_edges(V, edges)\n",
    "    E_T = inds_to_edges(V_T, edges)\n",
    "    \n",
    "    if not invisibles:\n",
    "        _min = np.min((V, V_T), axis=(0,1))[:3]\n",
    "        _max = _min + (np.max((V, V_T), axis=(0,1))[:3] - _min).max()\n",
    "    \n",
    "        ax.plot(*np.array((_min, _max)).T, linewidth=0)\n",
    "    else:\n",
    "        ax.plot(*np.array(invisibles).T, linewidth=0)\n",
    "       \n",
    "    \n",
    "    for e, e_T in zip(E, E_T):\n",
    "        ax.plot(*e[:,:3].T, color='skyblue', linewidth=3, marker='o', markersize=8)\n",
    "        ax.plot(*e_T[:,:3].T, color='green', linewidth=3, marker='o', markersize=8)\n",
    "    \n",
    "    # visualize motion\n",
    "    if plot_lines:\n",
    "        for vecs in zip(V, V_T):\n",
    "            ax.plot(*np.array(vecs)[:,:3].T, linestyle='--', color='orange')\n",
    "    \n",
    "    return ax"
   ]
  },
  {
   "cell_type": "code",
   "execution_count": null,
   "metadata": {},
   "outputs": [],
   "source": [
    "def create_gif(plot, n_frames=20, filename='mygif.gif', fps=20, pause_points=[], pause_start_end=True):\n",
    "    framenames = []\n",
    "    for i in range(n_frames + 1):\n",
    "        # plot chart\n",
    "        plot(i)\n",
    "\n",
    "        # create file name and append it to a list\n",
    "        framename = f'tmp/{i}.png'\n",
    "        framenames.append(framename)\n",
    "\n",
    "        # First and last frames stay longer\n",
    "        if pause_start_end and (i == 0 or i == n_frames) or i in pause_points:\n",
    "            for i in range(fps):\n",
    "                framenames.append(framename)\n",
    "\n",
    "        # save frame\n",
    "        plt.savefig(framename)\n",
    "        plt.close()\n",
    "\n",
    "    # build gif\n",
    "    with imageio.get_writer(filename, fps=fps) as writer:\n",
    "        for framename in framenames:\n",
    "            image = imageio.imread(framename)\n",
    "            writer.append_data(image)\n",
    "\n",
    "    # Remove files\n",
    "    for framename in set(framenames):\n",
    "        os.remove(framename)"
   ]
  },
  {
   "cell_type": "code",
   "execution_count": null,
   "metadata": {},
   "outputs": [],
   "source": [
    "def show_gif(fname):\n",
    "    import base64\n",
    "    from IPython import display\n",
    "    with open(fname, 'rb') as fd:\n",
    "        b64 = base64.b64encode(fd.read()).decode('ascii')\n",
    "    return display.HTML(f'<img src=\"data:image/gif;base64,{b64}\" />')"
   ]
  },
  {
   "cell_type": "code",
   "execution_count": null,
   "metadata": {},
   "outputs": [],
   "source": [
    "I = np.eye(4)\n",
    "T = np.array([\n",
    "    [ 1, 0, 0, 0],\n",
    "    [ 0, 1, 0, 0],\n",
    "    [ 0, 0, 1, 0],\n",
    "    [ 1, 1, 0, 1]\n",
    "])\n",
    "S = np.array([\n",
    "    [.5, 0, 0, 0],\n",
    "    [ 0,.5, 0, 0],\n",
    "    [ 0, 0,.5, 0],\n",
    "    [ 0, 0, 0, 1]\n",
    "])\n",
    "P = np.array([\n",
    "    [ 2, -1, -1, 0],\n",
    "    [-1,  2, -1, 0],\n",
    "    [-1, -1,  2, 0],\n",
    "    [ 0,  0,  0, 3]\n",
    "]) / 3\n",
    "M = np.array([\n",
    "    [ 1, -2, -2, 0],\n",
    "    [-2,  1, -2, 0],\n",
    "    [-2, -2,  1, 0],\n",
    "    [ 0,  0,  0, 3]\n",
    "]) / 3\n",
    "R = lambda theta : np.array([\n",
    "    [ np.cos(theta), -np.sin(theta), 0, 0],\n",
    "    [ np.sin(theta),  np.cos(theta), 0, 0],\n",
    "    [ 0, 0, 1, 0],\n",
    "    [ 0, 0, 0, 1]\n",
    "])"
   ]
  },
  {
   "cell_type": "code",
   "execution_count": null,
   "metadata": {},
   "outputs": [],
   "source": [
    "cube_verts = np.array([\n",
    "    [0,0,0,1],\n",
    "    [0,0,1,1],\n",
    "    [0,1,1,1],\n",
    "    [0,1,0,1],\n",
    "    [1,0,0,1],\n",
    "    [1,0,1,1],\n",
    "    [1,1,1,1],\n",
    "    [1,1,0,1],\n",
    "])\n",
    "cube_edges = np.array([\n",
    "    (0, 1),\n",
    "    (1, 2),\n",
    "    (2, 3),\n",
    "    (3, 0),\n",
    "    (4, 5),\n",
    "    (5, 6),\n",
    "    (6, 7),\n",
    "    (7, 4),\n",
    "    (0, 4),\n",
    "    (1, 5),\n",
    "    (2, 6),\n",
    "    (3, 7),\n",
    "])"
   ]
  },
  {
   "cell_type": "code",
   "execution_count": null,
   "metadata": {},
   "outputs": [],
   "source": [
    "ax = vis_transform(cube_verts, cube_edges, R(np.pi/4), plot_lines=False)\n",
    "ax.set_axis_off()\n",
    "ax.view_init(30, 10)"
   ]
  },
  {
   "cell_type": "code",
   "execution_count": null,
   "metadata": {},
   "outputs": [],
   "source": [
    "np.expand_dims"
   ]
  },
  {
   "cell_type": "markdown",
   "metadata": {},
   "source": [
    "# GIFs"
   ]
  },
  {
   "cell_type": "code",
   "execution_count": null,
   "metadata": {},
   "outputs": [],
   "source": [
    "def plot(i):\n",
    "    ax = vis_transform(cube_verts, cube_edges, R(i / 20 * np.pi/4), plot_lines=False, invisibles=[(-1.4,-1.4,-1.4), (1.5,1.5,1.5)])\n",
    "    ax.set_axis_off()\n",
    "    ax.view_init(30, 10)\n",
    "    \n",
    "fname = 'rotate.gif'\n",
    "create_gif(\n",
    "    plot,\n",
    "    n_frames=20,\n",
    "    filename=fname\n",
    ")\n",
    "show_gif(fname)"
   ]
  },
  {
   "cell_type": "code",
   "execution_count": null,
   "metadata": {},
   "outputs": [],
   "source": [
    "def plot(i):\n",
    "    ax = vis_transform(cube_verts, cube_edges, I + i / 20 * (T - I), invisibles=[(0,0,0), (2,2,2)])\n",
    "    ax.set_axis_off()\n",
    "    ax.view_init(30, 30)\n",
    "\n",
    "fname = 'translate.gif'\n",
    "create_gif(\n",
    "    plot,\n",
    "    n_frames=20,\n",
    "    filename=fname\n",
    ")\n",
    "show_gif(fname)"
   ]
  },
  {
   "cell_type": "code",
   "execution_count": null,
   "metadata": {},
   "outputs": [],
   "source": [
    "def plot(i):\n",
    "    ax = vis_transform(cube_verts, cube_edges, I + i / 20 * (P - I), invisibles=[(-1.4,-1.4,-1.4), (1,1,1)])\n",
    "    ax.set_axis_off()\n",
    "    ax.view_init(30, 30)\n",
    "\n",
    "fname = 'project_mirror.gif'\n",
    "create_gif(\n",
    "    plot\n",
    "    n_frames=40,\n",
    "    pause_points=[20],\n",
    "    filename=fname\n",
    ")\n",
    "show_gif(fname)"
   ]
  },
  {
   "cell_type": "code",
   "execution_count": null,
   "metadata": {},
   "outputs": [],
   "source": [
    "def plot(i):\n",
    "    ax = vis_transform(cube_verts, cube_edges, I + 2 * (P - I), invisibles=[(-1.4,-1.4,-1.4), (1,1,1)])\n",
    "    ax.set_axis_off()\n",
    "    ax.view_init(30, 5 * i)\n",
    "\n",
    "fname = 'mirror_spin.gif'\n",
    "create_gif(\n",
    "    plot,\n",
    "    n_frames=72,\n",
    "    pause_points=[],\n",
    "    filename=fname,\n",
    "    fps=10,\n",
    "    pause_start_end=False\n",
    ")\n",
    "show_gif(fname)"
   ]
  },
  {
   "cell_type": "code",
   "execution_count": null,
   "metadata": {},
   "outputs": [],
   "source": [
    "def plot(i):\n",
    "    ax = vis_transform(cube_verts, cube_edges, I + (i - 20) / 20 * (S - I), invisibles=[(0,0,0), (2,2,2)])\n",
    "    ax.set_axis_off()\n",
    "    ax.view_init(30, -60)\n",
    "    \n",
    "fname = 'scale.gif'\n",
    "create_gif(\n",
    "    plot,\n",
    "    n_frames=40,\n",
    "    pause_points=[20],\n",
    "    filename=fname\n",
    ")\n",
    "show_gif(fname)"
   ]
  },
  {
   "cell_type": "code",
   "execution_count": null,
   "metadata": {},
   "outputs": [],
   "source": []
  }
 ],
 "metadata": {
  "kernelspec": {
   "name": "python3",
   "display_name": "Python 3.8.2 64-bit ('3.8.2')"
  },
  "language_info": {
   "codemirror_mode": {
    "name": "ipython",
    "version": 3
   },
   "file_extension": ".py",
   "mimetype": "text/x-python",
   "name": "python",
   "nbconvert_exporter": "python",
   "pygments_lexer": "ipython3",
   "version": "3.8.2"
  },
  "interpreter": {
   "hash": "39ee90bcff821f6da976156acb119c43e6ec311d6e240476e68513d504a34bc3"
  }
 },
 "nbformat": 4,
 "nbformat_minor": 4
}